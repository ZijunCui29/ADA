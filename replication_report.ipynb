{
 "cells": [
  {
   "cell_type": "markdown",
   "metadata": {},
   "source": [
    "# -- The first replication --"
   ]
  },
  {
   "cell_type": "markdown",
   "metadata": {},
   "source": [
    "## 1. Data wrangling\n",
    "\n",
    "The first step is to load the data and organize them into a required format. Since the paper used the log of the observation, we can generate a new column that contains these log values."
   ]
  },
  {
   "cell_type": "code",
   "execution_count": 21,
   "metadata": {},
   "outputs": [
    {
     "data": {
      "text/html": [
       "<div>\n",
       "<style scoped>\n",
       "    .dataframe tbody tr th:only-of-type {\n",
       "        vertical-align: middle;\n",
       "    }\n",
       "\n",
       "    .dataframe tbody tr th {\n",
       "        vertical-align: top;\n",
       "    }\n",
       "\n",
       "    .dataframe thead th {\n",
       "        text-align: right;\n",
       "    }\n",
       "</style>\n",
       "<table border=\"1\" class=\"dataframe\">\n",
       "  <thead>\n",
       "    <tr style=\"text-align: right;\">\n",
       "      <th></th>\n",
       "      <th>sales</th>\n",
       "      <th>suvs</th>\n",
       "      <th>insurance</th>\n",
       "      <th>y</th>\n",
       "    </tr>\n",
       "    <tr>\n",
       "      <th>Period</th>\n",
       "      <th></th>\n",
       "      <th></th>\n",
       "      <th></th>\n",
       "      <th></th>\n",
       "    </tr>\n",
       "  </thead>\n",
       "  <tbody>\n",
       "    <tr>\n",
       "      <th>2004-01-01</th>\n",
       "      <td>61287</td>\n",
       "      <td>0.00</td>\n",
       "      <td>0.00</td>\n",
       "      <td>11.023323</td>\n",
       "    </tr>\n",
       "    <tr>\n",
       "      <th>2004-02-01</th>\n",
       "      <td>65381</td>\n",
       "      <td>-0.12</td>\n",
       "      <td>-0.01</td>\n",
       "      <td>11.087987</td>\n",
       "    </tr>\n",
       "    <tr>\n",
       "      <th>2004-03-01</th>\n",
       "      <td>78843</td>\n",
       "      <td>-0.05</td>\n",
       "      <td>-0.09</td>\n",
       "      <td>11.275214</td>\n",
       "    </tr>\n",
       "    <tr>\n",
       "      <th>2004-04-01</th>\n",
       "      <td>73422</td>\n",
       "      <td>-0.12</td>\n",
       "      <td>-0.08</td>\n",
       "      <td>11.203979</td>\n",
       "    </tr>\n",
       "    <tr>\n",
       "      <th>2004-05-01</th>\n",
       "      <td>77662</td>\n",
       "      <td>-0.07</td>\n",
       "      <td>-0.07</td>\n",
       "      <td>11.260121</td>\n",
       "    </tr>\n",
       "    <tr>\n",
       "      <th>...</th>\n",
       "      <td>...</td>\n",
       "      <td>...</td>\n",
       "      <td>...</td>\n",
       "      <td>...</td>\n",
       "    </tr>\n",
       "    <tr>\n",
       "      <th>2011-03-01</th>\n",
       "      <td>75982</td>\n",
       "      <td>-0.03</td>\n",
       "      <td>-0.19</td>\n",
       "      <td>11.238252</td>\n",
       "    </tr>\n",
       "    <tr>\n",
       "      <th>2011-04-01</th>\n",
       "      <td>70364</td>\n",
       "      <td>-0.08</td>\n",
       "      <td>-0.20</td>\n",
       "      <td>11.161437</td>\n",
       "    </tr>\n",
       "    <tr>\n",
       "      <th>2011-05-01</th>\n",
       "      <td>70070</td>\n",
       "      <td>-0.16</td>\n",
       "      <td>-0.22</td>\n",
       "      <td>11.157250</td>\n",
       "    </tr>\n",
       "    <tr>\n",
       "      <th>2011-06-01</th>\n",
       "      <td>70747</td>\n",
       "      <td>-0.12</td>\n",
       "      <td>-0.16</td>\n",
       "      <td>11.166865</td>\n",
       "    </tr>\n",
       "    <tr>\n",
       "      <th>2011-07-01</th>\n",
       "      <td>69910</td>\n",
       "      <td>-0.10</td>\n",
       "      <td>-0.17</td>\n",
       "      <td>11.154964</td>\n",
       "    </tr>\n",
       "  </tbody>\n",
       "</table>\n",
       "<p>91 rows × 4 columns</p>\n",
       "</div>"
      ],
      "text/plain": [
       "            sales  suvs  insurance          y\n",
       "Period                                       \n",
       "2004-01-01  61287  0.00       0.00  11.023323\n",
       "2004-02-01  65381 -0.12      -0.01  11.087987\n",
       "2004-03-01  78843 -0.05      -0.09  11.275214\n",
       "2004-04-01  73422 -0.12      -0.08  11.203979\n",
       "2004-05-01  77662 -0.07      -0.07  11.260121\n",
       "...           ...   ...        ...        ...\n",
       "2011-03-01  75982 -0.03      -0.19  11.238252\n",
       "2011-04-01  70364 -0.08      -0.20  11.161437\n",
       "2011-05-01  70070 -0.16      -0.22  11.157250\n",
       "2011-06-01  70747 -0.12      -0.16  11.166865\n",
       "2011-07-01  69910 -0.10      -0.17  11.154964\n",
       "\n",
       "[91 rows x 4 columns]"
      ]
     },
     "execution_count": 21,
     "metadata": {},
     "output_type": "execute_result"
    }
   ],
   "source": [
    "import pandas as pd\n",
    "import numpy as np\n",
    "\n",
    "# Read data\n",
    "merged_autos = pd.read_csv('data/merged_autos.csv')\n",
    "\n",
    "# Set a new copy of merged_autos dataframe\n",
    "autos = merged_autos.copy()\n",
    "\n",
    "# Convert the datetime\n",
    "autos['Period'] = pd.to_datetime(autos['Period'])\n",
    "\n",
    "# Log the sales\n",
    "autos['y'] = autos[\"sales\"].apply(np.log)\n",
    "\n",
    "# Set 'Period' as new index\n",
    "autos.set_index('Period', inplace = True)\n",
    "autos"
   ]
  },
  {
   "cell_type": "markdown",
   "metadata": {},
   "source": [
    "Now I plot the figure corresponding to the actual value curve in the paper to check whether there is a big deviation from it. It can be seen from the figure that the results are basically the same, so the experiment can continue."
   ]
  },
  {
   "cell_type": "code",
   "execution_count": 22,
   "metadata": {},
   "outputs": [
    {
     "data": {
      "text/plain": [
       "Period\n",
       "2005-06-01    11.356669\n",
       "2005-07-01    11.383602\n",
       "2005-08-01    11.307008\n",
       "2005-09-01    11.149931\n",
       "2005-10-01    11.062568\n",
       "                ...    \n",
       "2011-03-01    11.238252\n",
       "2011-04-01    11.161437\n",
       "2011-05-01    11.157250\n",
       "2011-06-01    11.166865\n",
       "2011-07-01    11.154964\n",
       "Name: y, Length: 74, dtype: float64"
      ]
     },
     "execution_count": 22,
     "metadata": {},
     "output_type": "execute_result"
    }
   ],
   "source": [
    "# Extract data after periods k\n",
    "truth = autos['y'][17:]\n",
    "truth"
   ]
  },
  {
   "cell_type": "code",
   "execution_count": 23,
   "metadata": {},
   "outputs": [
    {
     "data": {
      "text/plain": [
       "Text(0, 0.5, 'log(mvp)')"
      ]
     },
     "execution_count": 23,
     "metadata": {},
     "output_type": "execute_result"
    },
    {
     "data": {
      "image/png": "[encoded data removed]",
      "text/plain": [
       "<Figure size 792x288 with 1 Axes>"
      ]
     },
     "metadata": {
      "needs_background": "light"
     },
     "output_type": "display_data"
    }
   ],
   "source": [
    "import matplotlib.pyplot as plt\n",
    "\n",
    "# Plot the figure of actual values\n",
    "plt.figure(figsize = (11,4))\n",
    "plt.plot(truth)\n",
    "plt.yticks([10.8, 11.0, 11.2, 11.4])\n",
    "plt.title(\"Motor Vehicles and Parts\")\n",
    "plt.xlabel(\"Index\")\n",
    "plt.ylabel(\"log(mvp)\")"
   ]
  },
  {
   "cell_type": "markdown",
   "metadata": {},
   "source": [
    "## 2. The baseline model without Google Trends data\n",
    "\n",
    "The key in this step is to obtain the proper training set and fit the AR-1 model to get the predicted values.\n",
    "\n",
    "When obtaining the initial training set, a noteworthy point is that each group has two eigenvalues (yt-1 and yt-12).\n",
    "\n",
    "In terms of the model, I call the linear_model module in sklearn to create the linear regression model. Due to the characteristics of rolling window forecast, I choose to predict the value of each month in a loop and continuously add new values in the dataframe to the training set. Therefore, the training set is constantly expanding during the entire prediction process."
   ]
  },
  {
   "cell_type": "code",
   "execution_count": 24,
   "metadata": {},
   "outputs": [
    {
     "data": {
      "text/plain": [
       "[[11.192720200812888, 11.023323027655763],\n",
       " [11.035921389679748, 11.08798697535854],\n",
       " [11.113730657375424, 11.275213812293087],\n",
       " [11.299150392097582, 11.203978897213723],\n",
       " [11.261922416776939, 11.260121356237592]]"
      ]
     },
     "execution_count": 24,
     "metadata": {},
     "output_type": "execute_result"
    }
   ],
   "source": [
    "# Get the initial training set of yt-1 and yt-12\n",
    "X1 = list()\n",
    "for i in range(12,17):\n",
    "    X1 += [[autos['y'][i-1],autos['y'][i-12]]]\n",
    "X1"
   ]
  },
  {
   "cell_type": "code",
   "execution_count": 25,
   "metadata": {},
   "outputs": [
    {
     "data": {
      "text/plain": [
       "[11.035921389679748,\n",
       " 11.113730657375424,\n",
       " 11.299150392097582,\n",
       " 11.261922416776939,\n",
       " 11.270548124540719]"
      ]
     },
     "execution_count": 25,
     "metadata": {},
     "output_type": "execute_result"
    }
   ],
   "source": [
    "# Get the initial training set of yt\n",
    "Y1 = list()\n",
    "for i in range(12,17):\n",
    "    Y1 += [autos['y'][i]]\n",
    "Y1"
   ]
  },
  {
   "cell_type": "code",
   "execution_count": 26,
   "metadata": {},
   "outputs": [],
   "source": [
    "# Call the linear_model module in sklearn for linear regression\n",
    "from sklearn import linear_model\n",
    "\n",
    "# Create the prediction list\n",
    "predictions_base = list()\n",
    "\n",
    "# Create the linear regression model, i.e. the AR-1 model in this case\n",
    "model_base = linear_model.LinearRegression()\n",
    "\n",
    "for t in range(17,len(autos)): \n",
    "    # Model fit\n",
    "    model_base.fit(X1, Y1)\n",
    "    # Get the predicted value\n",
    "    yhat_base = np.dot(model_base.coef_,[autos['y'][t-1],autos['y'][t-12]]) + model_base.intercept_\n",
    "    # Add the predicted value to the prediction list\n",
    "    predictions_base.append(yhat_base)\n",
    "    # Add new values in the dataframe to the training set\n",
    "    X1.append([autos['y'][t-1],autos['y'][t-12]])\n",
    "    Y1.append(autos['y'][t])"
   ]
  },
  {
   "cell_type": "markdown",
   "metadata": {},
   "source": [
    "## 3. The model using the Google Trends data\n",
    "\n",
    "The prediction with Google Trends data is basically the same as before. The main difference is that the number of eigenvalues in each group in the training set is now increased to 4."
   ]
  },
  {
   "cell_type": "code",
   "execution_count": 27,
   "metadata": {},
   "outputs": [
    {
     "data": {
      "text/plain": [
       "[[11.192720200812888, 11.023323027655763, -0.11, 0.0],\n",
       " [11.035921389679748, 11.08798697535854, -0.1, -0.17],\n",
       " [11.113730657375424, 11.275213812293087, -0.09, -0.1],\n",
       " [11.299150392097582, 11.203978897213723, -0.14, -0.13],\n",
       " [11.261922416776939, 11.260121356237592, -0.15, -0.14]]"
      ]
     },
     "execution_count": 27,
     "metadata": {},
     "output_type": "execute_result"
    }
   ],
   "source": [
    "# Get the initial training set of yt-1 and yt-12\n",
    "X2 = list()\n",
    "for i in range(12,17):\n",
    "    X2 += [[autos['y'][i-1],autos['y'][i-12],autos['suvs'][i],autos['insurance'][i]]]\n",
    "X2"
   ]
  },
  {
   "cell_type": "code",
   "execution_count": 28,
   "metadata": {},
   "outputs": [
    {
     "data": {
      "text/plain": [
       "[11.035921389679748,\n",
       " 11.113730657375424,\n",
       " 11.299150392097582,\n",
       " 11.261922416776939,\n",
       " 11.270548124540719]"
      ]
     },
     "execution_count": 28,
     "metadata": {},
     "output_type": "execute_result"
    }
   ],
   "source": [
    "# Get the initial training set of yt\n",
    "Y2 = list()\n",
    "for i in range(12,17):\n",
    "    Y2 += [autos['y'][i]]\n",
    "Y2"
   ]
  },
  {
   "cell_type": "code",
   "execution_count": 29,
   "metadata": {},
   "outputs": [],
   "source": [
    "# Create the prediction list\n",
    "predictions_trends = list()\n",
    "\n",
    "# Create the linear regression model, i.e. the AR-1 model with Google Trends data in this case\n",
    "model_trends = linear_model.LinearRegression()\n",
    "\n",
    "for t in range(17,len(autos)):  \n",
    "    # Model fit\n",
    "    model_trends.fit(X2, Y2)\n",
    "    # Get the predicted value\n",
    "    yhat_trends = np.dot(model_trends.coef_,[autos['y'][t-1],autos['y'][t-12],autos['suvs'][t],autos['insurance'][t]]) + model_trends.intercept_\n",
    "    # Add the predicted value to the prediction list\n",
    "    predictions_trends.append(yhat_trends)\n",
    "    # Add new values in the dataframe to the training set\n",
    "    X2.append([autos['y'][t-1],autos['y'][t-12],autos['suvs'][t],autos['insurance'][t]])\n",
    "    Y2.append(autos['y'][t])"
   ]
  },
  {
   "cell_type": "markdown",
   "metadata": {},
   "source": [
    "## 4. Plot the figure\n",
    "\n",
    "Now I have got the predicted values under the two methods, so I can calculate the corresponding MAE and plot the figure. The figure I got reproduced the results in the original text well.\n",
    "\n",
    "In addition, I also found that the author made a descriptive mistake related to the MAE during the recession, that is, the MAE without and with Google Trends data should be 9.29% and 7.29% separately. But the improvement values of MAE we got are both 21.5%. So our forecast results should be consistent."
   ]
  },
  {
   "cell_type": "code",
   "execution_count": 30,
   "metadata": {},
   "outputs": [
    {
     "name": "stdout",
     "output_type": "stream",
     "text": [
      "MAE_base = 6.34%\n",
      "MAE_trends = 5.67%\n"
     ]
    }
   ],
   "source": [
    "from sklearn.metrics import mean_absolute_error\n",
    "\n",
    "# Calculate the MAE\n",
    "MAE_base = mean_absolute_error(truth, predictions_base)\n",
    "MAE_trends = mean_absolute_error(truth, predictions_trends)\n",
    "\n",
    "# Print the results\n",
    "print(\"MAE_base = %.2f%%\" %(MAE_base * 100))\n",
    "print(\"MAE_trends = %.2f%%\" %(MAE_trends * 100))"
   ]
  },
  {
   "cell_type": "code",
   "execution_count": 31,
   "metadata": {},
   "outputs": [
    {
     "name": "stdout",
     "output_type": "stream",
     "text": [
      "MAE_improvement_overall = 10.7%\n"
     ]
    }
   ],
   "source": [
    "# Calculate the MAE improvement\n",
    "MAE_improvement_overall = (MAE_base - MAE_trends) / MAE_base\n",
    "\n",
    "# Print the results\n",
    "print(\"MAE_improvement_overall = %.1f%%\" %(MAE_improvement_overall * 100))"
   ]
  },
  {
   "cell_type": "code",
   "execution_count": 32,
   "metadata": {},
   "outputs": [
    {
     "name": "stdout",
     "output_type": "stream",
     "text": [
      "MAE_base_rec = 9.29%\n",
      "MAE_trends_rec = 7.29%\n"
     ]
    }
   ],
   "source": [
    "# Calculate the MAE during the recession (December 2007 through June 2009)\n",
    "MAE_base_rec = mean_absolute_error(truth[30:48], predictions_base[30:48])\n",
    "MAE_trends_rec = mean_absolute_error(truth[30:48], predictions_trends[30:48])\n",
    "\n",
    "# Print the results\n",
    "print(\"MAE_base_rec = %.2f%%\" %(MAE_base_rec * 100))\n",
    "print(\"MAE_trends_rec = %.2f%%\" %(MAE_trends_rec * 100))"
   ]
  },
  {
   "cell_type": "code",
   "execution_count": 33,
   "metadata": {},
   "outputs": [
    {
     "name": "stdout",
     "output_type": "stream",
     "text": [
      "MAE_improvement_recession = 21.5%\n"
     ]
    }
   ],
   "source": [
    "# Calculate the MAE improvement during the recession (December 2007 through June 2009)\n",
    "MAE_improvement_recession = (MAE_base_rec - MAE_trends_rec) / MAE_base_rec\n",
    "\n",
    "# Print the results\n",
    "print(\"MAE_improvement_recession = %.1f%%\" %(MAE_improvement_recession * 100))"
   ]
  },
  {
   "cell_type": "code",
   "execution_count": 34,
   "metadata": {},
   "outputs": [
    {
     "data": {
      "image/png": "[encoded data removed]",
      "text/plain": [
       "<Figure size 792x288 with 3 Axes>"
      ]
     },
     "metadata": {
      "needs_background": "light"
     },
     "output_type": "display_data"
    }
   ],
   "source": [
    "# Plot the figure\n",
    "fig, ax1 = plt.subplots(figsize = (11,4))\n",
    "\n",
    "# Plot \"truth\"\n",
    "ax1.set_xlabel(\"Index\")\n",
    "ax1.set_ylabel(\"log(mvp)\")\n",
    "l1, = ax1.plot(truth, color = 'gray')\n",
    "ax1.tick_params(axis = 'x')\n",
    "plt.yticks([10.8, 11.0, 11.2, 11.4])\n",
    "\n",
    "# Plot \"predictions_base\"\n",
    "ax2 = ax1.twiny()\n",
    "l2, = ax2.plot(predictions_base, linestyle = '--')\n",
    "ax2.tick_params(axis = 'x')\n",
    "plt.xticks([])\n",
    "\n",
    "# Plot \"predictions_trends\"\n",
    "ax3 = ax1.twiny()\n",
    "l3, = ax3.plot(predictions_trends, color = 'orange')\n",
    "ax3.tick_params(axis = 'x')\n",
    "plt.xticks([])\n",
    "\n",
    "# Add legend and annotation\n",
    "plt.legend([l1, l2, l3], ['Actual', 'Base', 'Trends'], loc = 'upper right') \n",
    "plt.text(-3.1, 10.68, \"MAE improvement\\nOverall = 10.7%\\nDuring recession = 21.5%\", bbox = dict(ec = 'black', fc = 'white'))\n",
    "\n",
    "# Set the title and show the figure\n",
    "plt.title(\"Motor Vehicles and Parts\")\n",
    "plt.show()"
   ]
  },
  {
   "cell_type": "markdown",
   "metadata": {},
   "source": [
    "# -- The second replication --"
   ]
  },
  {
   "cell_type": "markdown",
   "metadata": {},
   "source": [
    "## 1. Data wrangling\n",
    "\n",
    "The first step is to load the data and organize them into a required format. Since the paper used the log of the seasonally adjusted claims data, we can generate a new column that contains these log values."
   ]
  },
  {
   "cell_type": "code",
   "execution_count": 4,
   "metadata": {},
   "outputs": [
    {
     "data": {
      "text/html": [
       "<div>\n",
       "<style scoped>\n",
       "    .dataframe tbody tr th:only-of-type {\n",
       "        vertical-align: middle;\n",
       "    }\n",
       "\n",
       "    .dataframe tbody tr th {\n",
       "        vertical-align: top;\n",
       "    }\n",
       "\n",
       "    .dataframe thead th {\n",
       "        text-align: right;\n",
       "    }\n",
       "</style>\n",
       "<table border=\"1\" class=\"dataframe\">\n",
       "  <thead>\n",
       "    <tr style=\"text-align: right;\">\n",
       "      <th></th>\n",
       "      <th>claims.sa</th>\n",
       "      <th>claims.nsa</th>\n",
       "      <th>Jobs</th>\n",
       "      <th>Welfare...Unemployment</th>\n",
       "      <th>log</th>\n",
       "    </tr>\n",
       "    <tr>\n",
       "      <th>Index</th>\n",
       "      <th></th>\n",
       "      <th></th>\n",
       "      <th></th>\n",
       "      <th></th>\n",
       "      <th></th>\n",
       "    </tr>\n",
       "  </thead>\n",
       "  <tbody>\n",
       "    <tr>\n",
       "      <th>2004/01/10</th>\n",
       "      <td>354000</td>\n",
       "      <td>677897</td>\n",
       "      <td>6.066862</td>\n",
       "      <td>-7.574152</td>\n",
       "      <td>12.777052</td>\n",
       "    </tr>\n",
       "    <tr>\n",
       "      <th>2004/01/17</th>\n",
       "      <td>362000</td>\n",
       "      <td>490763</td>\n",
       "      <td>-3.558773</td>\n",
       "      <td>-25.237886</td>\n",
       "      <td>12.799399</td>\n",
       "    </tr>\n",
       "    <tr>\n",
       "      <th>2004/01/24</th>\n",
       "      <td>353000</td>\n",
       "      <td>382262</td>\n",
       "      <td>-6.184409</td>\n",
       "      <td>-17.401619</td>\n",
       "      <td>12.774223</td>\n",
       "    </tr>\n",
       "    <tr>\n",
       "      <th>2004/01/31</th>\n",
       "      <td>376000</td>\n",
       "      <td>406298</td>\n",
       "      <td>-7.935044</td>\n",
       "      <td>-18.815352</td>\n",
       "      <td>12.837344</td>\n",
       "    </tr>\n",
       "    <tr>\n",
       "      <th>2004/02/07</th>\n",
       "      <td>380000</td>\n",
       "      <td>433234</td>\n",
       "      <td>-13.310680</td>\n",
       "      <td>-24.104085</td>\n",
       "      <td>12.847927</td>\n",
       "    </tr>\n",
       "  </tbody>\n",
       "</table>\n",
       "</div>"
      ],
      "text/plain": [
       "            claims.sa  claims.nsa       Jobs  Welfare...Unemployment  \\\n",
       "Index                                                                  \n",
       "2004/01/10     354000      677897   6.066862               -7.574152   \n",
       "2004/01/17     362000      490763  -3.558773              -25.237886   \n",
       "2004/01/24     353000      382262  -6.184409              -17.401619   \n",
       "2004/01/31     376000      406298  -7.935044              -18.815352   \n",
       "2004/02/07     380000      433234 -13.310680              -24.104085   \n",
       "\n",
       "                  log  \n",
       "Index                  \n",
       "2004/01/10  12.777052  \n",
       "2004/01/17  12.799399  \n",
       "2004/01/24  12.774223  \n",
       "2004/01/31  12.837344  \n",
       "2004/02/07  12.847927  "
      ]
     },
     "execution_count": 4,
     "metadata": {},
     "output_type": "execute_result"
    }
   ],
   "source": [
    "import pandas as pd\n",
    "import numpy as np\n",
    "\n",
    "# Read data\n",
    "merged_iclaims = pd.read_csv('data/merged_iclaims.csv')\n",
    "\n",
    "# Set a new copy of merged_iclaims dataframe\n",
    "claims = merged_iclaims.copy()\n",
    "\n",
    "# Log the seasonally adjusted claims data\n",
    "claims['log'] = claims[\"claims.sa\"].apply(np.log)\n",
    "\n",
    "# Set 'Index' as new index\n",
    "claims.set_index('Index', inplace = True)\n",
    "\n",
    "claims.head()"
   ]
  },
  {
   "cell_type": "markdown",
   "metadata": {},
   "source": [
    "Here plot a part of the log values to check the data. The curve obtained is the same as that in the paper."
   ]
  },
  {
   "cell_type": "code",
   "execution_count": 5,
   "metadata": {},
   "outputs": [
    {
     "data": {
      "text/plain": [
       "Text(0, 0.5, 'log(iclaims)')"
      ]
     },
     "execution_count": 5,
     "metadata": {},
     "output_type": "execute_result"
    },
    {
     "data": {
      "image/png": "[encoded data removed]",
      "text/plain": [
       "<Figure size 792x288 with 1 Axes>"
      ]
     },
     "metadata": {
      "needs_background": "light"
     },
     "output_type": "display_data"
    }
   ],
   "source": [
    "import matplotlib.pyplot as plt\n",
    "\n",
    "# Plot the figure of the log values\n",
    "plt.figure(figsize = (11,4))\n",
    "plt.plot(claims['2008/01/19':]['log'])\n",
    "plt.title('Seasonally Adjusted Initial Claims for Unemployment')\n",
    "plt.xticks(['2009/01/03', '2010/01/02', '2011/01/01'])\n",
    "plt.xlabel(\"Time\")\n",
    "plt.ylabel(\"log(iclaims)\")"
   ]
  },
  {
   "cell_type": "markdown",
   "metadata": {},
   "source": [
    "## 2. The baseline model without Google Trends data\n",
    "\n",
    "Then I use the linear regression model to get the predicted values. In this case the authors only used yt-1 to predict yt, which means that each group only has one eigenvalue(yt-1).\n",
    "\n",
    "I make the prediction from the beginning of the dataset. To add these predicted values to the dataframe and make the dates of the data correspond, the length of the prediction list should be the same as the length of columns in the dataframe. So I let the first two values in the prediction list be equal to zero, which cannot be predicted since there's no earlier data before them.\n",
    "\n",
    "Same as the first replication, the trainging set is constantly expanding during the prediction process. So I predict the value of each month in a loop and continuously add new values in the dataframe to the training set."
   ]
  },
  {
   "cell_type": "code",
   "execution_count": 6,
   "metadata": {},
   "outputs": [],
   "source": [
    "# Get the initial training set of yt-1 and yt\n",
    "X1 = [claims['log'][0]]\n",
    "Y1 = [claims['log'][1]]\n",
    "\n",
    "# Create the prediction list\n",
    "predictions_base = list()\n",
    "predictions_base = [0, 0]"
   ]
  },
  {
   "cell_type": "code",
   "execution_count": 7,
   "metadata": {},
   "outputs": [],
   "source": [
    "# Call the linear_model module in sklearn for linear regression\n",
    "from sklearn import linear_model\n",
    "\n",
    "# Create the linear regression model\n",
    "model_base = linear_model.LinearRegression()\n",
    "\n",
    "for t in range(2,len(claims)):\n",
    "    \n",
    "    # Model fit\n",
    "    model_base.fit(np.array(X1).reshape(-1, 1), np.array(Y1).reshape(-1, 1))\n",
    "    \n",
    "    # Get the predicted value\n",
    "    past = np.array(claims['log'][t-1]).reshape(-1, 1)\n",
    "    yhat_base = model_base.predict(past)[0]\n",
    "    \n",
    "    # Add the predicted value to the prediction list\n",
    "    predictions_base.append(yhat_base)\n",
    "    \n",
    "    # Add new values in the dataframe to the training set\n",
    "    X1.append(claims['log'][t-1])\n",
    "    Y1.append(claims['log'][t])"
   ]
  },
  {
   "cell_type": "code",
   "execution_count": 8,
   "metadata": {},
   "outputs": [
    {
     "data": {
      "text/html": [
       "<div>\n",
       "<style scoped>\n",
       "    .dataframe tbody tr th:only-of-type {\n",
       "        vertical-align: middle;\n",
       "    }\n",
       "\n",
       "    .dataframe tbody tr th {\n",
       "        vertical-align: top;\n",
       "    }\n",
       "\n",
       "    .dataframe thead th {\n",
       "        text-align: right;\n",
       "    }\n",
       "</style>\n",
       "<table border=\"1\" class=\"dataframe\">\n",
       "  <thead>\n",
       "    <tr style=\"text-align: right;\">\n",
       "      <th></th>\n",
       "      <th>claims.sa</th>\n",
       "      <th>claims.nsa</th>\n",
       "      <th>Jobs</th>\n",
       "      <th>Welfare...Unemployment</th>\n",
       "      <th>log</th>\n",
       "      <th>base</th>\n",
       "    </tr>\n",
       "    <tr>\n",
       "      <th>Index</th>\n",
       "      <th></th>\n",
       "      <th></th>\n",
       "      <th></th>\n",
       "      <th></th>\n",
       "      <th></th>\n",
       "      <th></th>\n",
       "    </tr>\n",
       "  </thead>\n",
       "  <tbody>\n",
       "    <tr>\n",
       "      <th>2004/01/10</th>\n",
       "      <td>354000</td>\n",
       "      <td>677897</td>\n",
       "      <td>6.066862</td>\n",
       "      <td>-7.574152</td>\n",
       "      <td>12.777052</td>\n",
       "      <td>0</td>\n",
       "    </tr>\n",
       "    <tr>\n",
       "      <th>2004/01/17</th>\n",
       "      <td>362000</td>\n",
       "      <td>490763</td>\n",
       "      <td>-3.558773</td>\n",
       "      <td>-25.237886</td>\n",
       "      <td>12.799399</td>\n",
       "      <td>0</td>\n",
       "    </tr>\n",
       "    <tr>\n",
       "      <th>2004/01/24</th>\n",
       "      <td>353000</td>\n",
       "      <td>382262</td>\n",
       "      <td>-6.184409</td>\n",
       "      <td>-17.401619</td>\n",
       "      <td>12.774223</td>\n",
       "      <td>[12.799399490807907]</td>\n",
       "    </tr>\n",
       "    <tr>\n",
       "      <th>2004/01/31</th>\n",
       "      <td>376000</td>\n",
       "      <td>406298</td>\n",
       "      <td>-7.935044</td>\n",
       "      <td>-18.815352</td>\n",
       "      <td>12.837344</td>\n",
       "      <td>[12.802586440732076]</td>\n",
       "    </tr>\n",
       "    <tr>\n",
       "      <th>2004/02/07</th>\n",
       "      <td>380000</td>\n",
       "      <td>433234</td>\n",
       "      <td>-13.310680</td>\n",
       "      <td>-24.104085</td>\n",
       "      <td>12.847927</td>\n",
       "      <td>[12.697185462916515]</td>\n",
       "    </tr>\n",
       "  </tbody>\n",
       "</table>\n",
       "</div>"
      ],
      "text/plain": [
       "            claims.sa  claims.nsa       Jobs  Welfare...Unemployment  \\\n",
       "Index                                                                  \n",
       "2004/01/10     354000      677897   6.066862               -7.574152   \n",
       "2004/01/17     362000      490763  -3.558773              -25.237886   \n",
       "2004/01/24     353000      382262  -6.184409              -17.401619   \n",
       "2004/01/31     376000      406298  -7.935044              -18.815352   \n",
       "2004/02/07     380000      433234 -13.310680              -24.104085   \n",
       "\n",
       "                  log                  base  \n",
       "Index                                        \n",
       "2004/01/10  12.777052                     0  \n",
       "2004/01/17  12.799399                     0  \n",
       "2004/01/24  12.774223  [12.799399490807907]  \n",
       "2004/01/31  12.837344  [12.802586440732076]  \n",
       "2004/02/07  12.847927  [12.697185462916515]  "
      ]
     },
     "execution_count": 8,
     "metadata": {},
     "output_type": "execute_result"
    }
   ],
   "source": [
    "# Add predicted values to the dataframe\n",
    "claims['base'] = predictions_base\n",
    "claims.head()"
   ]
  },
  {
   "cell_type": "markdown",
   "metadata": {},
   "source": [
    "## 3. The model using the Google Trends data\n",
    "\n",
    "In the model using the Google Trends data, the only change is to add two new eigenvalues to the training set."
   ]
  },
  {
   "cell_type": "code",
   "execution_count": 9,
   "metadata": {},
   "outputs": [],
   "source": [
    "# Get the initial training set of yt-1 and yt\n",
    "X2 = [[claims['log'][0], claims['Jobs'][1], claims['Welfare...Unemployment'][1]]]\n",
    "Y2 = [claims['log'][1]]\n",
    "\n",
    "# Create the prediction list\n",
    "predictions_trends = list()\n",
    "predictions_trends = [0, 0]"
   ]
  },
  {
   "cell_type": "code",
   "execution_count": 10,
   "metadata": {},
   "outputs": [],
   "source": [
    "# Create the linear regression model\n",
    "model_trends = linear_model.LinearRegression()\n",
    "\n",
    "for t in range(2,len(claims)):\n",
    "    \n",
    "    # Model fit\n",
    "    model_trends.fit(X2, Y2)\n",
    "    \n",
    "    # Get the predicted value\n",
    "    past = np.array([claims['log'][t-1], claims['Jobs'][t], claims['Welfare...Unemployment'][t]]).reshape(-3, 3)\n",
    "    yhat_trends = model_trends.predict(past)[0]\n",
    "    \n",
    "    # Add the predicted value to the prediction list\n",
    "    predictions_trends.append(yhat_trends)\n",
    "    \n",
    "    # Add new values in the dataframe to the training set\n",
    "    X2.append([claims['log'][t-1], claims['Jobs'][t], claims['Welfare...Unemployment'][t]])\n",
    "    Y2.append(claims['log'][t])"
   ]
  },
  {
   "cell_type": "code",
   "execution_count": 11,
   "metadata": {},
   "outputs": [
    {
     "data": {
      "text/html": [
       "<div>\n",
       "<style scoped>\n",
       "    .dataframe tbody tr th:only-of-type {\n",
       "        vertical-align: middle;\n",
       "    }\n",
       "\n",
       "    .dataframe tbody tr th {\n",
       "        vertical-align: top;\n",
       "    }\n",
       "\n",
       "    .dataframe thead th {\n",
       "        text-align: right;\n",
       "    }\n",
       "</style>\n",
       "<table border=\"1\" class=\"dataframe\">\n",
       "  <thead>\n",
       "    <tr style=\"text-align: right;\">\n",
       "      <th></th>\n",
       "      <th>claims.sa</th>\n",
       "      <th>claims.nsa</th>\n",
       "      <th>Jobs</th>\n",
       "      <th>Welfare...Unemployment</th>\n",
       "      <th>log</th>\n",
       "      <th>base</th>\n",
       "      <th>trends</th>\n",
       "    </tr>\n",
       "    <tr>\n",
       "      <th>Index</th>\n",
       "      <th></th>\n",
       "      <th></th>\n",
       "      <th></th>\n",
       "      <th></th>\n",
       "      <th></th>\n",
       "      <th></th>\n",
       "      <th></th>\n",
       "    </tr>\n",
       "  </thead>\n",
       "  <tbody>\n",
       "    <tr>\n",
       "      <th>2004/01/10</th>\n",
       "      <td>354000</td>\n",
       "      <td>677897</td>\n",
       "      <td>6.066862</td>\n",
       "      <td>-7.574152</td>\n",
       "      <td>12.777052</td>\n",
       "      <td>0</td>\n",
       "      <td>0.000000</td>\n",
       "    </tr>\n",
       "    <tr>\n",
       "      <th>2004/01/17</th>\n",
       "      <td>362000</td>\n",
       "      <td>490763</td>\n",
       "      <td>-3.558773</td>\n",
       "      <td>-25.237886</td>\n",
       "      <td>12.799399</td>\n",
       "      <td>0</td>\n",
       "      <td>0.000000</td>\n",
       "    </tr>\n",
       "    <tr>\n",
       "      <th>2004/01/24</th>\n",
       "      <td>353000</td>\n",
       "      <td>382262</td>\n",
       "      <td>-6.184409</td>\n",
       "      <td>-17.401619</td>\n",
       "      <td>12.774223</td>\n",
       "      <td>[12.799399490807907]</td>\n",
       "      <td>12.799399</td>\n",
       "    </tr>\n",
       "    <tr>\n",
       "      <th>2004/01/31</th>\n",
       "      <td>376000</td>\n",
       "      <td>406298</td>\n",
       "      <td>-7.935044</td>\n",
       "      <td>-18.815352</td>\n",
       "      <td>12.837344</td>\n",
       "      <td>[12.802586440732076]</td>\n",
       "      <td>12.776613</td>\n",
       "    </tr>\n",
       "    <tr>\n",
       "      <th>2004/02/07</th>\n",
       "      <td>380000</td>\n",
       "      <td>433234</td>\n",
       "      <td>-13.310680</td>\n",
       "      <td>-24.104085</td>\n",
       "      <td>12.847927</td>\n",
       "      <td>[12.697185462916515]</td>\n",
       "      <td>12.970880</td>\n",
       "    </tr>\n",
       "  </tbody>\n",
       "</table>\n",
       "</div>"
      ],
      "text/plain": [
       "            claims.sa  claims.nsa       Jobs  Welfare...Unemployment  \\\n",
       "Index                                                                  \n",
       "2004/01/10     354000      677897   6.066862               -7.574152   \n",
       "2004/01/17     362000      490763  -3.558773              -25.237886   \n",
       "2004/01/24     353000      382262  -6.184409              -17.401619   \n",
       "2004/01/31     376000      406298  -7.935044              -18.815352   \n",
       "2004/02/07     380000      433234 -13.310680              -24.104085   \n",
       "\n",
       "                  log                  base     trends  \n",
       "Index                                                   \n",
       "2004/01/10  12.777052                     0   0.000000  \n",
       "2004/01/17  12.799399                     0   0.000000  \n",
       "2004/01/24  12.774223  [12.799399490807907]  12.799399  \n",
       "2004/01/31  12.837344  [12.802586440732076]  12.776613  \n",
       "2004/02/07  12.847927  [12.697185462916515]  12.970880  "
      ]
     },
     "execution_count": 11,
     "metadata": {},
     "output_type": "execute_result"
    }
   ],
   "source": [
    "# Add predicted values to the dataframe\n",
    "claims['trends'] = predictions_trends\n",
    "claims.head()"
   ]
  },
  {
   "cell_type": "markdown",
   "metadata": {},
   "source": [
    "## 4. Calculate MAE\n",
    "\n",
    "Now all the data are ready, the final work is to select the data corresponding to the four time periods in the paper and calculate their MSE."
   ]
  },
  {
   "cell_type": "code",
   "execution_count": 12,
   "metadata": {},
   "outputs": [],
   "source": [
    "# Select the first time period\n",
    "period_1 = claims['2009/03/01':'2009/05/01']['log']\n",
    "base_1 = claims['2009/03/01':'2009/05/01']['base']\n",
    "trends_1 = claims['2009/03/01':'2009/05/01']['trends']"
   ]
  },
  {
   "cell_type": "code",
   "execution_count": 13,
   "metadata": {},
   "outputs": [
    {
     "name": "stdout",
     "output_type": "stream",
     "text": [
      "MAE_base = 0.0307\n",
      "MAE_trends = 0.02399\n",
      "1 - ratio = 21.86%\n"
     ]
    }
   ],
   "source": [
    "from sklearn.metrics import mean_absolute_error\n",
    "\n",
    "# Calculate the MAE\n",
    "MAE_base_1 = mean_absolute_error(period_1, base_1)\n",
    "MAE_trends_1 = mean_absolute_error(period_1, trends_1)\n",
    "\n",
    "# Calculate the 1 - ratio\n",
    "ratio_1 = 1 - MAE_trends_1 / MAE_base_1\n",
    "\n",
    "# Convert data format\n",
    "MAE_base_1 = round(MAE_base_1, 4)\n",
    "MAE_trends_1 = round(MAE_trends_1, 5)\n",
    "ratio_1 = round(ratio_1, 4)\n",
    "ratio_1 = format(ratio_1, '.2%')\n",
    "\n",
    "# Print the results\n",
    "print(\"MAE_base =\", MAE_base_1)\n",
    "print(\"MAE_trends =\", MAE_trends_1)\n",
    "print(\"1 - ratio =\", ratio_1)"
   ]
  },
  {
   "cell_type": "code",
   "execution_count": 14,
   "metadata": {},
   "outputs": [],
   "source": [
    "# Select the second time period\n",
    "period_2 = claims['2009/12/01':'2010/02/01']['log']\n",
    "base_2 = claims['2009/12/01':'2010/02/01']['base']\n",
    "trends_2 = claims['2009/12/01':'2010/02/01']['trends']"
   ]
  },
  {
   "cell_type": "code",
   "execution_count": 15,
   "metadata": {},
   "outputs": [
    {
     "name": "stdout",
     "output_type": "stream",
     "text": [
      "MAE_base = 0.0357\n",
      "MAE_trends = 0.03127\n",
      "1 - ratio = 12.36%\n"
     ]
    }
   ],
   "source": [
    "# Calculate the MAE\n",
    "MAE_base_2 = mean_absolute_error(period_2, base_2)\n",
    "MAE_trends_2 = mean_absolute_error(period_2, trends_2)\n",
    "\n",
    "# Calculate the 1 - ratio\n",
    "ratio_2 = 1 - MAE_trends_2 / MAE_base_2\n",
    "\n",
    "# Convert data format\n",
    "MAE_base_2 = round(MAE_base_2, 4)\n",
    "MAE_trends_2 = round(MAE_trends_2, 5)\n",
    "ratio_2 = round(ratio_2, 4)\n",
    "ratio_2 = format(ratio_2, '.2%')\n",
    "\n",
    "# Print the results\n",
    "print(\"MAE_base =\", MAE_base_2)\n",
    "print(\"MAE_trends =\", MAE_trends_2)\n",
    "print(\"1 - ratio =\", ratio_2)"
   ]
  },
  {
   "cell_type": "code",
   "execution_count": 16,
   "metadata": {},
   "outputs": [],
   "source": [
    "# Select the third time period\n",
    "period_3 = claims['2010/07/15':'2010/10/01']['log']\n",
    "base_3 = claims['2010/07/15':'2010/10/01']['base']\n",
    "trends_3 = claims['2010/07/15':'2010/10/01']['trends']"
   ]
  },
  {
   "cell_type": "code",
   "execution_count": 17,
   "metadata": {},
   "outputs": [
    {
     "name": "stdout",
     "output_type": "stream",
     "text": [
      "MAE_base = 0.0253\n",
      "MAE_trends = 0.02446\n",
      "1 - ratio = 3.22%\n"
     ]
    }
   ],
   "source": [
    "# Calculate the MAE\n",
    "MAE_base_3 = mean_absolute_error(period_3, base_3)\n",
    "MAE_trends_3 = mean_absolute_error(period_3, trends_3)\n",
    "\n",
    "# Calculate the 1 - ratio\n",
    "ratio_3 = 1 - MAE_trends_3 / MAE_base_3\n",
    "\n",
    "# Convert data format\n",
    "MAE_base_3 = round(MAE_base_3, 4)\n",
    "MAE_trends_3 = round(MAE_trends_3, 5)\n",
    "ratio_3 = round(ratio_3, 4)\n",
    "ratio_3 = format(ratio_3, '.2%')\n",
    "\n",
    "# Print the results\n",
    "print(\"MAE_base =\", MAE_base_3)\n",
    "print(\"MAE_trends =\", MAE_trends_3)\n",
    "print(\"1 - ratio =\", ratio_3)"
   ]
  },
  {
   "cell_type": "code",
   "execution_count": 18,
   "metadata": {},
   "outputs": [],
   "source": [
    "# Select the forth time period\n",
    "period_4 = claims['2011/01/01':'2011/05/01']['log']\n",
    "base_4 = claims['2011/01/01':'2011/05/01']['base']\n",
    "trends_4 = claims['2011/01/01':'2011/05/01']['trends']"
   ]
  },
  {
   "cell_type": "code",
   "execution_count": 19,
   "metadata": {},
   "outputs": [
    {
     "name": "stdout",
     "output_type": "stream",
     "text": [
      "MAE_base = 0.0514\n",
      "MAE_trends = 0.05101\n",
      "1 - ratio = 0.66%\n"
     ]
    }
   ],
   "source": [
    "# Calculate the MAE\n",
    "MAE_base_4 = mean_absolute_error(period_4, base_4)\n",
    "MAE_trends_4 = mean_absolute_error(period_4, trends_4)\n",
    "\n",
    "# Calculate the 1 - ratio\n",
    "ratio_4 = 1 - MAE_trends_4 / MAE_base_4\n",
    "\n",
    "# Convert data format\n",
    "MAE_base_4 = round(MAE_base_4, 4)\n",
    "MAE_trends_4 = round(MAE_trends_4, 5)\n",
    "ratio_4 = round(ratio_4, 4)\n",
    "ratio_4 = format(ratio_4, '.2%')\n",
    "\n",
    "# Print the results\n",
    "print(\"MAE_base =\", MAE_base_4)\n",
    "print(\"MAE_trends =\", MAE_trends_4)\n",
    "print(\"1 - ratio =\", ratio_4)"
   ]
  },
  {
   "cell_type": "code",
   "execution_count": 20,
   "metadata": {},
   "outputs": [
    {
     "name": "stdout",
     "output_type": "stream",
     "text": [
      "+-----------------------------------------------------------+\n",
      "|           Behavior of MAE around Turning Points           |\n",
      "+------------+------------+----------+------------+---------+\n",
      "|   Start    |    End     | MAE base | MAE trends | 1-ratio |\n",
      "+------------+------------+----------+------------+---------+\n",
      "| 2009-03-01 | 2009-05-01 |  0.0307  |  0.02399   |  21.86% |\n",
      "| 2009-12-01 | 2010-02-01 |  0.0357  |  0.03127   |  12.36% |\n",
      "| 2010-07-15 | 2010-10-01 |  0.0253  |  0.02446   |  3.22%  |\n",
      "| 2011-01-01 | 2011-05-01 |  0.0514  |  0.05101   |  0.66%  |\n",
      "+------------+------------+----------+------------+---------+\n"
     ]
    }
   ],
   "source": [
    "import prettytable as pt\n",
    "\n",
    "# Create the table\n",
    "tb = pt.PrettyTable()\n",
    "\n",
    "# Set the title\n",
    "tb.title = 'Behavior of MAE around Turning Points'\n",
    "\n",
    "# Set column names\n",
    "tb.field_names = ['Start', 'End', 'MAE base', 'MAE trends', '1-ratio']\n",
    "\n",
    "# Add data\n",
    "tb.add_row(['2009-03-01', '2009-05-01', MAE_base_1, MAE_trends_1, ratio_1])\n",
    "tb.add_row(['2009-12-01', '2010-02-01', MAE_base_2, MAE_trends_2, ratio_2])\n",
    "tb.add_row(['2010-07-15', '2010-10-01', MAE_base_3, MAE_trends_3, ratio_3])\n",
    "tb.add_row(['2011-01-01', '2011-05-01', MAE_base_4, MAE_trends_4, ratio_4])\n",
    "\n",
    "# Print the table\n",
    "print(tb)"
   ]
  },
  {
   "cell_type": "markdown",
   "metadata": {},
   "source": [
    "At last, I find the results I got are basically the same as the authors'. However, They made two descriptive errors in the paper again:\n",
    "\n",
    "1) The data in the third and fourth rows are reversed.\n",
    "\n",
    "2) The date on the third line is wrong, it shouldn't be 2010-7-15 to 2010-7-15, but 2010-7-15 to 2010-10-01.\n",
    "\n",
    "Except for this, I got the same conclusion as the authors. That is, in the four periods around the 'turing points', the MAEs of predicted values using the Trends data are all smaller than those without Trends data, especially in the first two periods. This may indicate that the Google Trends data are helpful in identifying some turning points in economic series. That would be quite simple and useful if we can get better predicted values just with some more eigenvalues added in the training set. However, which Trends data should be used could be a key question."
   ]
  }
 ],
 "metadata": {
  "kernelspec": {
   "display_name": "Python 3 (ipykernel)",
   "language": "python",
   "name": "python3"
  },
  "language_info": {
   "codemirror_mode": {
    "name": "ipython",
    "version": 3
   },
   "file_extension": ".py",
   "mimetype": "text/x-python",
   "name": "python",
   "nbconvert_exporter": "python",
   "pygments_lexer": "ipython3",
   "version": "3.11.4"
  }
 },
 "nbformat": 4,
 "nbformat_minor": 4
}
